{
 "cells": [
  {
   "cell_type": "code",
   "execution_count": 3,
   "metadata": {},
   "outputs": [
    {
     "name": "stdout",
     "output_type": "stream",
     "text": [
      "^C\n",
      "Note: you may need to restart the kernel to use updated packages.\n"
     ]
    },
    {
     "name": "stderr",
     "output_type": "stream",
     "text": [
      "ERROR: After October 2020 you may experience errors when installing or updating packages. This is because pip will change the way that it resolves dependency conflicts.\n",
      "\n",
      "We recommend you use --use-feature=2020-resolver to test your packages with the new resolver before it becomes the default.\n",
      "\n",
      "requests 2.24.0 requires urllib3!=1.25.0,!=1.25.1,<1.26,>=1.21.1, but you'll have urllib3 1.26.12 which is incompatible.\n"
     ]
    },
    {
     "name": "stdout",
     "output_type": "stream",
     "text": [
      "Collecting selenium\n",
      "  Downloading selenium-4.5.0-py3-none-any.whl (995 kB)\n",
      "Collecting trio-websocket~=0.9\n",
      "  Downloading trio_websocket-0.9.2-py3-none-any.whl (16 kB)\n",
      "Collecting trio~=0.17\n",
      "  Downloading trio-0.22.0-py3-none-any.whl (384 kB)\n",
      "Collecting urllib3[socks]~=1.26\n",
      "  Downloading urllib3-1.26.12-py2.py3-none-any.whl (140 kB)\n",
      "Collecting certifi>=2021.10.8\n",
      "  Downloading certifi-2022.9.24-py3-none-any.whl (161 kB)\n",
      "Collecting wsproto>=0.14\n",
      "  Downloading wsproto-1.2.0-py3-none-any.whl (24 kB)\n",
      "Requirement already satisfied: async-generator>=1.10 in c:\\users\\caear\\anaconda3\\lib\\site-packages (from trio-websocket~=0.9->selenium) (1.10)\n",
      "Requirement already satisfied: cffi>=1.14; os_name == \"nt\" and implementation_name != \"pypy\" in c:\\users\\caear\\anaconda3\\lib\\site-packages (from trio~=0.17->selenium) (1.14.3)\n",
      "Collecting outcome\n",
      "  Downloading outcome-1.2.0-py2.py3-none-any.whl (9.7 kB)\n",
      "Collecting exceptiongroup>=1.0.0rc9; python_version < \"3.11\"\n",
      "  Downloading exceptiongroup-1.0.0-py3-none-any.whl (12 kB)\n",
      "Requirement already satisfied: attrs>=19.2.0 in c:\\users\\caear\\anaconda3\\lib\\site-packages (from trio~=0.17->selenium) (20.3.0)\n",
      "Collecting sniffio\n",
      "  Downloading sniffio-1.3.0-py3-none-any.whl (10 kB)\n",
      "Requirement already satisfied: sortedcontainers in c:\\users\\caear\\anaconda3\\lib\\site-packages (from trio~=0.17->selenium) (2.2.2)\n",
      "Requirement already satisfied: idna in c:\\users\\caear\\anaconda3\\lib\\site-packages (from trio~=0.17->selenium) (2.10)\n",
      "Requirement already satisfied: PySocks!=1.5.7,<2.0,>=1.5.6; extra == \"socks\" in c:\\users\\caear\\anaconda3\\lib\\site-packages (from urllib3[socks]~=1.26->selenium) (1.7.1)\n",
      "Collecting h11<1,>=0.9.0\n",
      "  Downloading h11-0.14.0-py3-none-any.whl (58 kB)\n",
      "Requirement already satisfied: pycparser in c:\\users\\caear\\anaconda3\\lib\\site-packages (from cffi>=1.14; os_name == \"nt\" and implementation_name != \"pypy\"->trio~=0.17->selenium) (2.20)\n",
      "Installing collected packages: h11, wsproto, outcome, exceptiongroup, sniffio, trio, trio-websocket, urllib3, certifi, selenium\n",
      "  Attempting uninstall: urllib3\n",
      "    Found existing installation: urllib3 1.25.11\n",
      "    Uninstalling urllib3-1.25.11:\n",
      "      Successfully uninstalled urllib3-1.25.11\n",
      "  Attempting uninstall: certifi\n",
      "    Found existing installation: certifi 2020.6.20\n",
      "    Uninstalling certifi-2020.6.20:\n",
      "      Successfully uninstalled certifi-2020.6.20\n",
      "Successfully installed certifi-2022.9.24 exceptiongroup-1.0.0 h11-0.14.0 outcome-1.2.0 selenium-4.5.0 sniffio-1.3.0 trio-0.22.0 trio-websocket-0.9.2 urllib3-1.26.12 wsproto-1.2.0\n"
     ]
    }
   ],
   "source": [
    "pip install selenium"
   ]
  },
  {
   "cell_type": "code",
   "execution_count": 4,
   "metadata": {},
   "outputs": [],
   "source": [
    "from bs4 import BeautifulSoup\n",
    "from selenium import webdriver\n",
    "from selenium.webdriver.common.by import By\n",
    "from selenium.webdriver.common.keys import Keys\n",
    "from selenium.webdriver.support.ui import WebDriverWait\n",
    "from selenium.webdriver.support import expected_conditions as EC\n",
    "import time\n",
    "import numpy as np\n",
    "import pickle"
   ]
  },
  {
   "cell_type": "code",
   "execution_count": 64,
   "metadata": {},
   "outputs": [],
   "source": [
    "#log into linked in\n",
    "def login(driver,p):\n",
    "  url =  \"https://www.linkedin.com/checkpoint/rm/sign-in-another-account?fromSignIn=true&trk=guest_homepage-basic_nav-header-signin\"\n",
    "  wait = WebDriverWait(driver, 10)\n",
    "  driver.get(url)\n",
    "  \n",
    "  username = driver.find_element('id', \"username\")\n",
    "  username.send_keys(\"cae.aragao.simoes@gmail.com\")\n",
    "  password = driver.find_element('id', \"password\")\n",
    "  password.send_keys(p)\n",
    "  driver.find_element(By.CLASS_NAME,\"login__form_action_container\").click()\n",
    "\n",
    "\n",
    "#redirects driver to the query link\n",
    "def search(driver):\n",
    "  time.sleep(5)\n",
    "  driver.get(\"https://www.linkedin.com/jobs/search/?keywords=data%20science\")\n",
    "    \n",
    "\n",
    "#grabs results fetched\n",
    "def get_n_results(driver):\n",
    "  time.sleep(10)\n",
    "  results_div = driver.find_element(By.XPATH, \"/html/body/div[5]/div[3]/div[3]/div[2]/div/section[1]/div/header/div[1]/small\")\n",
    "  n_string = results_div.text\n",
    "  n = int(n_string.split()[0].replace(',',\"\"))\n",
    "  return n \n",
    "\n",
    "\n",
    "#Finds job ul div\n",
    "def get_jobs(driver):\n",
    "  ul_div = driver.find_element(By.XPATH, '//*[@id=\"main\"]/div/section[1]/div')\n",
    "  return ul_div\n",
    "\n",
    "\n",
    "#Scrolls to properly load page\n",
    "def scroll_down(driver):\n",
    "  for i in np.linspace(0,1,10):\n",
    "    time.sleep(2)\n",
    "    driver.execute_script(f\"window.scrollTo(0,document.body.scrollHeight*{i})\")\n",
    "    \n",
    "\n",
    "def get_job_urls(jobs,driver,job_urls = {}):\n",
    "  i = 1\n",
    "  #Collects job urls,location role cand company \n",
    "  #the final result updates the input dictionary and appends a key value pair with the format\n",
    "  #    url:{'company':company,'location':location,'role':role}\n",
    "  while True: \n",
    "    try:\n",
    "      WebDriverWait(driver, 1).until(EC.presence_of_element_located((By.XPATH,f'/html/body/div[5]/div[3]/div[3]/div[2]/div/section[1]/div/div/ul/li[{i}]')))\n",
    "      url = jobs.find_element(By.XPATH, f'/html/body/div[5]/div[3]/div[3]/div[2]/div/section[1]/div/div/ul/li[{i}]/div/div/div[1]/div[2]/div[1]/a').get_attribute(\"href\")\n",
    "      role = jobs.find_element(By.XPATH, f'/html/body/div[5]/div[3]/div[3]/div[2]/div/section[1]/div/div/ul/li[{i}]/div/div/div[1]/div[2]/div[1]/a').text\n",
    "      company = jobs.find_element(By.XPATH, f'/html/body/div[5]/div[3]/div[3]/div[2]/div/section[1]/div/div/ul/li[{i}]/div/div/div[1]/div[2]/div[1]/a').text\n",
    "      location = driver.find_element(By.XPATH, f'/html/body/div[5]/div[3]/div[3]/div[2]/div/section[1]/div/div/ul/li[{i}]/div/div/div[1]/div[2]/div[3]/ul/li').text\n",
    "      job_urls.update({url:{'company':company,'location':location,'role':role}})\n",
    "      i+=1\n",
    "    except:\n",
    "      return job_urls\n",
    "\n",
    "\n",
    "def load_next_page(driver):\n",
    "  #loads next page for url retrival\n",
    "  curr= driver.find_element(By.XPATH, '//*[@aria-current=\"true\"]').text\n",
    "  next = driver.find_element(By.XPATH, f'//*[@aria-label=\"Página {int(curr)+1}\"]')\n",
    "  next.click()\n",
    "\n",
    "\n",
    "def get_description(driver,job_dict,good):\n",
    "\n",
    "  fail = []\n",
    "  #Iterate through the url list to scrape the descriptions\n",
    "  for url in list(job_dict.keys()):\n",
    "    if url not in good:\n",
    "      try:\n",
    "        driver.get(url)\n",
    "        time.sleep(3)\n",
    "        if driver.current_url != url:\n",
    "          print(f'failed at {url}')\n",
    "          #remove borken urls\n",
    "          job_dict.pop(url)\n",
    "        #scrape\n",
    "        driver.find_element(By.XPATH, '//*[@aria-label=\"Click to see more description\"]').click()\n",
    "        description = driver.find_element(By.XPATH, '/html/body/div[6]/div[3]/div/div[1]/div[1]/div/div[2]/article/div').text\n",
    "        job_dict.get(url).update({\"description\":description})\n",
    "        good.append(url)\n",
    "        return job_dict\n",
    "      except:\n",
    "        #keep going if there is a random error in which a div did not load properly but check where we failed\n",
    "        print(f\"fail {job_dict.get(url)}\")\n",
    "        fail.append(url)\n"
   ]
  },
  {
   "cell_type": "code",
   "execution_count": 65,
   "metadata": {},
   "outputs": [],
   "source": [
    "#Run theough the entire process of fetch in urls logining in and grabing job descriptions\n",
    "def main(driver,password):\n",
    "    login(driver,password)\n",
    "    search(driver)\n",
    "\n",
    "    job_dict ={}\n",
    "    #iterate through the amount of pages given\n",
    "    for i in range(39):\n",
    "        jobs = get_jobs(driver)\n",
    "        scroll_down(driver)\n",
    "        get_job_urls(jobs,driver,job_urls = job_dict)\n",
    "        load_next_page(driver)\n",
    "    get_description(driver,job_dict,good)\n",
    "\n",
    "    return get_description(driver,job_dict,good)"
   ]
  },
  {
   "cell_type": "code",
   "execution_count": 63,
   "metadata": {},
   "outputs": [
    {
     "name": "stderr",
     "output_type": "stream",
     "text": [
      "<ipython-input-63-92116c521bc9>:1: DeprecationWarning: executable_path has been deprecated, please pass in a Service object\n",
      "  driver = webdriver.Chrome(r'C:\\Program Files (x86)\\Google\\chromedriver.exe')\n"
     ]
    },
    {
     "ename": "ElementClickInterceptedException",
     "evalue": "Message: element click intercepted: Element <button aria-label=\"Página 16\" type=\"button\" data-ember-action=\"\" data-ember-action-2173=\"2173\">...</button> is not clickable at point (328, 823). Other element would receive the click: <section class=\"scaffold-layout__list\" tabindex=\"-1\">...</section>\n  (Session info: chrome=106.0.5249.119)\nStacktrace:\nBacktrace:\n\tOrdinal0 [0x00AC1ED3+2236115]\n\tOrdinal0 [0x00A592F1+1807089]\n\tOrdinal0 [0x009666FD+812797]\n\tOrdinal0 [0x0099BEC7+1031879]\n\tOrdinal0 [0x00999E6C+1023596]\n\tOrdinal0 [0x00997A5B+1014363]\n\tOrdinal0 [0x009966E7+1009383]\n\tOrdinal0 [0x0098C416+967702]\n\tOrdinal0 [0x009B1A8C+1120908]\n\tOrdinal0 [0x0098BD84+966020]\n\tOrdinal0 [0x009B1CA4+1121444]\n\tOrdinal0 [0x009C59E2+1202658]\n\tOrdinal0 [0x009B18A6+1120422]\n\tOrdinal0 [0x0098A73D+960317]\n\tOrdinal0 [0x0098B71F+964383]\n\tGetHandleVerifier [0x00D6E7E2+2743074]\n\tGetHandleVerifier [0x00D608D4+2685972]\n\tGetHandleVerifier [0x00B52BAA+532202]\n\tGetHandleVerifier [0x00B51990+527568]\n\tOrdinal0 [0x00A6080C+1837068]\n\tOrdinal0 [0x00A64CD8+1854680]\n\tOrdinal0 [0x00A64DC5+1854917]\n\tOrdinal0 [0x00A6ED64+1895780]\n\tBaseThreadInitThunk [0x7707FA29+25]\n\tRtlGetAppContainerNamedObjectPath [0x771F7BBE+286]\n\tRtlGetAppContainerNamedObjectPath [0x771F7B8E+238]\n",
     "output_type": "error",
     "traceback": [
      "\u001b[1;31m---------------------------------------------------------------------------\u001b[0m",
      "\u001b[1;31mElementClickInterceptedException\u001b[0m          Traceback (most recent call last)",
      "\u001b[1;32m<ipython-input-63-92116c521bc9>\u001b[0m in \u001b[0;36m<module>\u001b[1;34m\u001b[0m\n\u001b[0;32m      1\u001b[0m \u001b[0mdriver\u001b[0m \u001b[1;33m=\u001b[0m \u001b[0mwebdriver\u001b[0m\u001b[1;33m.\u001b[0m\u001b[0mChrome\u001b[0m\u001b[1;33m(\u001b[0m\u001b[1;34mr'C:\\Program Files (x86)\\Google\\chromedriver.exe'\u001b[0m\u001b[1;33m)\u001b[0m\u001b[1;33m\u001b[0m\u001b[1;33m\u001b[0m\u001b[0m\n\u001b[1;32m----> 2\u001b[1;33m \u001b[0mmain\u001b[0m\u001b[1;33m(\u001b[0m\u001b[0mdriver\u001b[0m\u001b[1;33m,\u001b[0m \u001b[1;34m'GreatTie'\u001b[0m\u001b[1;33m)\u001b[0m\u001b[1;33m\u001b[0m\u001b[1;33m\u001b[0m\u001b[0m\n\u001b[0m",
      "\u001b[1;32m<ipython-input-62-a30ad217b516>\u001b[0m in \u001b[0;36mmain\u001b[1;34m(driver, password)\u001b[0m\n\u001b[0;32m     10\u001b[0m         \u001b[0mscroll_down\u001b[0m\u001b[1;33m(\u001b[0m\u001b[0mdriver\u001b[0m\u001b[1;33m)\u001b[0m\u001b[1;33m\u001b[0m\u001b[1;33m\u001b[0m\u001b[0m\n\u001b[0;32m     11\u001b[0m         \u001b[0mget_job_urls\u001b[0m\u001b[1;33m(\u001b[0m\u001b[0mjobs\u001b[0m\u001b[1;33m,\u001b[0m\u001b[0mdriver\u001b[0m\u001b[1;33m,\u001b[0m\u001b[0mjob_urls\u001b[0m \u001b[1;33m=\u001b[0m \u001b[0mjob_dict\u001b[0m\u001b[1;33m)\u001b[0m\u001b[1;33m\u001b[0m\u001b[1;33m\u001b[0m\u001b[0m\n\u001b[1;32m---> 12\u001b[1;33m         \u001b[0mload_next_page\u001b[0m\u001b[1;33m(\u001b[0m\u001b[0mdriver\u001b[0m\u001b[1;33m,\u001b[0m \u001b[0mi\u001b[0m\u001b[1;33m)\u001b[0m\u001b[1;33m\u001b[0m\u001b[1;33m\u001b[0m\u001b[0m\n\u001b[0m\u001b[0;32m     13\u001b[0m     \u001b[0mget_description\u001b[0m\u001b[1;33m(\u001b[0m\u001b[0mdriver\u001b[0m\u001b[1;33m,\u001b[0m\u001b[0mjob_dict\u001b[0m\u001b[1;33m,\u001b[0m\u001b[0mgood\u001b[0m\u001b[1;33m)\u001b[0m\u001b[1;33m\u001b[0m\u001b[1;33m\u001b[0m\u001b[0m\n\u001b[0;32m     14\u001b[0m \u001b[1;33m\u001b[0m\u001b[0m\n",
      "\u001b[1;32m<ipython-input-61-069b0d317a1b>\u001b[0m in \u001b[0;36mload_next_page\u001b[1;34m(driver, i)\u001b[0m\n\u001b[0;32m     62\u001b[0m   \u001b[0mcurr\u001b[0m\u001b[1;33m=\u001b[0m \u001b[0mdriver\u001b[0m\u001b[1;33m.\u001b[0m\u001b[0mfind_element\u001b[0m\u001b[1;33m(\u001b[0m\u001b[0mBy\u001b[0m\u001b[1;33m.\u001b[0m\u001b[0mXPATH\u001b[0m\u001b[1;33m,\u001b[0m \u001b[1;34m'//*[@aria-current=\"true\"]'\u001b[0m\u001b[1;33m)\u001b[0m\u001b[1;33m.\u001b[0m\u001b[0mtext\u001b[0m\u001b[1;33m\u001b[0m\u001b[1;33m\u001b[0m\u001b[0m\n\u001b[0;32m     63\u001b[0m   \u001b[0mnext\u001b[0m \u001b[1;33m=\u001b[0m \u001b[0mdriver\u001b[0m\u001b[1;33m.\u001b[0m\u001b[0mfind_element\u001b[0m\u001b[1;33m(\u001b[0m\u001b[0mBy\u001b[0m\u001b[1;33m.\u001b[0m\u001b[0mXPATH\u001b[0m\u001b[1;33m,\u001b[0m \u001b[1;34mf'//*[@aria-label=\"Página {int(curr)+1}\"]'\u001b[0m\u001b[1;33m)\u001b[0m\u001b[1;33m\u001b[0m\u001b[1;33m\u001b[0m\u001b[0m\n\u001b[1;32m---> 64\u001b[1;33m   \u001b[0mnext\u001b[0m\u001b[1;33m.\u001b[0m\u001b[0mclick\u001b[0m\u001b[1;33m(\u001b[0m\u001b[1;33m)\u001b[0m\u001b[1;33m\u001b[0m\u001b[1;33m\u001b[0m\u001b[0m\n\u001b[0m\u001b[0;32m     65\u001b[0m \u001b[1;33m\u001b[0m\u001b[0m\n\u001b[0;32m     66\u001b[0m \u001b[1;33m\u001b[0m\u001b[0m\n",
      "\u001b[1;32m~\\anaconda3\\lib\\site-packages\\selenium\\webdriver\\remote\\webelement.py\u001b[0m in \u001b[0;36mclick\u001b[1;34m(self)\u001b[0m\n\u001b[0;32m     86\u001b[0m     \u001b[1;32mdef\u001b[0m \u001b[0mclick\u001b[0m\u001b[1;33m(\u001b[0m\u001b[0mself\u001b[0m\u001b[1;33m)\u001b[0m \u001b[1;33m->\u001b[0m \u001b[1;32mNone\u001b[0m\u001b[1;33m:\u001b[0m\u001b[1;33m\u001b[0m\u001b[1;33m\u001b[0m\u001b[0m\n\u001b[0;32m     87\u001b[0m         \u001b[1;34m\"\"\"Clicks the element.\"\"\"\u001b[0m\u001b[1;33m\u001b[0m\u001b[1;33m\u001b[0m\u001b[0m\n\u001b[1;32m---> 88\u001b[1;33m         \u001b[0mself\u001b[0m\u001b[1;33m.\u001b[0m\u001b[0m_execute\u001b[0m\u001b[1;33m(\u001b[0m\u001b[0mCommand\u001b[0m\u001b[1;33m.\u001b[0m\u001b[0mCLICK_ELEMENT\u001b[0m\u001b[1;33m)\u001b[0m\u001b[1;33m\u001b[0m\u001b[1;33m\u001b[0m\u001b[0m\n\u001b[0m\u001b[0;32m     89\u001b[0m \u001b[1;33m\u001b[0m\u001b[0m\n\u001b[0;32m     90\u001b[0m     \u001b[1;32mdef\u001b[0m \u001b[0msubmit\u001b[0m\u001b[1;33m(\u001b[0m\u001b[0mself\u001b[0m\u001b[1;33m)\u001b[0m\u001b[1;33m:\u001b[0m\u001b[1;33m\u001b[0m\u001b[1;33m\u001b[0m\u001b[0m\n",
      "\u001b[1;32m~\\anaconda3\\lib\\site-packages\\selenium\\webdriver\\remote\\webelement.py\u001b[0m in \u001b[0;36m_execute\u001b[1;34m(self, command, params)\u001b[0m\n\u001b[0;32m    394\u001b[0m             \u001b[0mparams\u001b[0m \u001b[1;33m=\u001b[0m \u001b[1;33m{\u001b[0m\u001b[1;33m}\u001b[0m\u001b[1;33m\u001b[0m\u001b[1;33m\u001b[0m\u001b[0m\n\u001b[0;32m    395\u001b[0m         \u001b[0mparams\u001b[0m\u001b[1;33m[\u001b[0m\u001b[1;34m'id'\u001b[0m\u001b[1;33m]\u001b[0m \u001b[1;33m=\u001b[0m \u001b[0mself\u001b[0m\u001b[1;33m.\u001b[0m\u001b[0m_id\u001b[0m\u001b[1;33m\u001b[0m\u001b[1;33m\u001b[0m\u001b[0m\n\u001b[1;32m--> 396\u001b[1;33m         \u001b[1;32mreturn\u001b[0m \u001b[0mself\u001b[0m\u001b[1;33m.\u001b[0m\u001b[0m_parent\u001b[0m\u001b[1;33m.\u001b[0m\u001b[0mexecute\u001b[0m\u001b[1;33m(\u001b[0m\u001b[0mcommand\u001b[0m\u001b[1;33m,\u001b[0m \u001b[0mparams\u001b[0m\u001b[1;33m)\u001b[0m\u001b[1;33m\u001b[0m\u001b[1;33m\u001b[0m\u001b[0m\n\u001b[0m\u001b[0;32m    397\u001b[0m \u001b[1;33m\u001b[0m\u001b[0m\n\u001b[0;32m    398\u001b[0m     \u001b[1;32mdef\u001b[0m \u001b[0mfind_element\u001b[0m\u001b[1;33m(\u001b[0m\u001b[0mself\u001b[0m\u001b[1;33m,\u001b[0m \u001b[0mby\u001b[0m\u001b[1;33m=\u001b[0m\u001b[0mBy\u001b[0m\u001b[1;33m.\u001b[0m\u001b[0mID\u001b[0m\u001b[1;33m,\u001b[0m \u001b[0mvalue\u001b[0m\u001b[1;33m=\u001b[0m\u001b[1;32mNone\u001b[0m\u001b[1;33m)\u001b[0m \u001b[1;33m->\u001b[0m \u001b[0mWebElement\u001b[0m\u001b[1;33m:\u001b[0m\u001b[1;33m\u001b[0m\u001b[1;33m\u001b[0m\u001b[0m\n",
      "\u001b[1;32m~\\anaconda3\\lib\\site-packages\\selenium\\webdriver\\remote\\webdriver.py\u001b[0m in \u001b[0;36mexecute\u001b[1;34m(self, driver_command, params)\u001b[0m\n\u001b[0;32m    427\u001b[0m         \u001b[0mresponse\u001b[0m \u001b[1;33m=\u001b[0m \u001b[0mself\u001b[0m\u001b[1;33m.\u001b[0m\u001b[0mcommand_executor\u001b[0m\u001b[1;33m.\u001b[0m\u001b[0mexecute\u001b[0m\u001b[1;33m(\u001b[0m\u001b[0mdriver_command\u001b[0m\u001b[1;33m,\u001b[0m \u001b[0mparams\u001b[0m\u001b[1;33m)\u001b[0m\u001b[1;33m\u001b[0m\u001b[1;33m\u001b[0m\u001b[0m\n\u001b[0;32m    428\u001b[0m         \u001b[1;32mif\u001b[0m \u001b[0mresponse\u001b[0m\u001b[1;33m:\u001b[0m\u001b[1;33m\u001b[0m\u001b[1;33m\u001b[0m\u001b[0m\n\u001b[1;32m--> 429\u001b[1;33m             \u001b[0mself\u001b[0m\u001b[1;33m.\u001b[0m\u001b[0merror_handler\u001b[0m\u001b[1;33m.\u001b[0m\u001b[0mcheck_response\u001b[0m\u001b[1;33m(\u001b[0m\u001b[0mresponse\u001b[0m\u001b[1;33m)\u001b[0m\u001b[1;33m\u001b[0m\u001b[1;33m\u001b[0m\u001b[0m\n\u001b[0m\u001b[0;32m    430\u001b[0m             response['value'] = self._unwrap_value(\n\u001b[0;32m    431\u001b[0m                 response.get('value', None))\n",
      "\u001b[1;32m~\\anaconda3\\lib\\site-packages\\selenium\\webdriver\\remote\\errorhandler.py\u001b[0m in \u001b[0;36mcheck_response\u001b[1;34m(self, response)\u001b[0m\n\u001b[0;32m    241\u001b[0m                 \u001b[0malert_text\u001b[0m \u001b[1;33m=\u001b[0m \u001b[0mvalue\u001b[0m\u001b[1;33m[\u001b[0m\u001b[1;34m'alert'\u001b[0m\u001b[1;33m]\u001b[0m\u001b[1;33m.\u001b[0m\u001b[0mget\u001b[0m\u001b[1;33m(\u001b[0m\u001b[1;34m'text'\u001b[0m\u001b[1;33m)\u001b[0m\u001b[1;33m\u001b[0m\u001b[1;33m\u001b[0m\u001b[0m\n\u001b[0;32m    242\u001b[0m             \u001b[1;32mraise\u001b[0m \u001b[0mexception_class\u001b[0m\u001b[1;33m(\u001b[0m\u001b[0mmessage\u001b[0m\u001b[1;33m,\u001b[0m \u001b[0mscreen\u001b[0m\u001b[1;33m,\u001b[0m \u001b[0mstacktrace\u001b[0m\u001b[1;33m,\u001b[0m \u001b[0malert_text\u001b[0m\u001b[1;33m)\u001b[0m  \u001b[1;31m# type: ignore[call-arg]  # mypy is not smart enough here\u001b[0m\u001b[1;33m\u001b[0m\u001b[1;33m\u001b[0m\u001b[0m\n\u001b[1;32m--> 243\u001b[1;33m         \u001b[1;32mraise\u001b[0m \u001b[0mexception_class\u001b[0m\u001b[1;33m(\u001b[0m\u001b[0mmessage\u001b[0m\u001b[1;33m,\u001b[0m \u001b[0mscreen\u001b[0m\u001b[1;33m,\u001b[0m \u001b[0mstacktrace\u001b[0m\u001b[1;33m)\u001b[0m\u001b[1;33m\u001b[0m\u001b[1;33m\u001b[0m\u001b[0m\n\u001b[0m",
      "\u001b[1;31mElementClickInterceptedException\u001b[0m: Message: element click intercepted: Element <button aria-label=\"Página 16\" type=\"button\" data-ember-action=\"\" data-ember-action-2173=\"2173\">...</button> is not clickable at point (328, 823). Other element would receive the click: <section class=\"scaffold-layout__list\" tabindex=\"-1\">...</section>\n  (Session info: chrome=106.0.5249.119)\nStacktrace:\nBacktrace:\n\tOrdinal0 [0x00AC1ED3+2236115]\n\tOrdinal0 [0x00A592F1+1807089]\n\tOrdinal0 [0x009666FD+812797]\n\tOrdinal0 [0x0099BEC7+1031879]\n\tOrdinal0 [0x00999E6C+1023596]\n\tOrdinal0 [0x00997A5B+1014363]\n\tOrdinal0 [0x009966E7+1009383]\n\tOrdinal0 [0x0098C416+967702]\n\tOrdinal0 [0x009B1A8C+1120908]\n\tOrdinal0 [0x0098BD84+966020]\n\tOrdinal0 [0x009B1CA4+1121444]\n\tOrdinal0 [0x009C59E2+1202658]\n\tOrdinal0 [0x009B18A6+1120422]\n\tOrdinal0 [0x0098A73D+960317]\n\tOrdinal0 [0x0098B71F+964383]\n\tGetHandleVerifier [0x00D6E7E2+2743074]\n\tGetHandleVerifier [0x00D608D4+2685972]\n\tGetHandleVerifier [0x00B52BAA+532202]\n\tGetHandleVerifier [0x00B51990+527568]\n\tOrdinal0 [0x00A6080C+1837068]\n\tOrdinal0 [0x00A64CD8+1854680]\n\tOrdinal0 [0x00A64DC5+1854917]\n\tOrdinal0 [0x00A6ED64+1895780]\n\tBaseThreadInitThunk [0x7707FA29+25]\n\tRtlGetAppContainerNamedObjectPath [0x771F7BBE+286]\n\tRtlGetAppContainerNamedObjectPath [0x771F7B8E+238]\n"
     ]
    }
   ],
   "source": [
    "driver = webdriver.Chrome(r'C:\\Program Files (x86)\\Google\\chromedriver.exe')\n",
    "main(driver, 'GreatTie')"
   ]
  },
  {
   "cell_type": "code",
   "execution_count": 66,
   "metadata": {},
   "outputs": [],
   "source": [
    "#use pickle object storage to store dictionary items for later use\n",
    "\n",
    "def save(final_file):\n",
    "    with open(f'../data/{final_file}.p', 'wb') as fp:\n",
    "        pickle.dump(final_file,file=fp,protocol=pickle.HIGHEST_PROTOCOL)\n",
    "def load():\n",
    "    with open('../data/job_dict.p', 'rb') as fp:\n",
    "        job_dict = pickle.load(fp)"
   ]
  },
  {
   "cell_type": "code",
   "execution_count": null,
   "metadata": {},
   "outputs": [],
   "source": []
  }
 ],
 "metadata": {
  "kernelspec": {
   "display_name": "Python 3",
   "language": "python",
   "name": "python3"
  },
  "language_info": {
   "codemirror_mode": {
    "name": "ipython",
    "version": 3
   },
   "file_extension": ".py",
   "mimetype": "text/x-python",
   "name": "python",
   "nbconvert_exporter": "python",
   "pygments_lexer": "ipython3",
   "version": "3.8.5"
  }
 },
 "nbformat": 4,
 "nbformat_minor": 4
}
